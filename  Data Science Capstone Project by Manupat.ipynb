{
    "cells": [
        {
            "metadata": {
                "collapsed": true
            },
            "cell_type": "markdown",
            "source": "__Data Science Capstone Project__"
        },
        {
            "metadata": {},
            "cell_type": "markdown",
            "source": "__BUSINESS UNDERSTANDING__"
        },
        {
            "metadata": {},
            "cell_type": "markdown",
            "source": "The Seattle government is going to prevent avoidable car accidents by employing methods that alert drivers, health system, and police to remind them to be more careful in critical situations. In most cases, not paying enough attention during driving, abusing drugs and alcohol or driving at very high speed are the main causes of occurring accidents that can be prevented by enacting harsher regulations. Besides these reasons, weather, visibility, or road conditions are also the major uncontrollable factors that can be prevented by revealing hidden patterns in the data and announcing warning to the local government, police and drivers on the targeted roads. The target audience of the project will be local government, police and car insurance companies. The model and its results are going to provide some advice for the target audience to make insightful decisions for reducing the number of accidents and injuries.\n\nHere we have been given a dataset of all the accidents occured since 2004\nWith the help of the provided dataset we will try to predict that what are some of the main reasons behind those Severity."
        },
        {
            "metadata": {},
            "cell_type": "markdown",
            "source": "Data Analysis"
        },
        {
            "metadata": {},
            "cell_type": "markdown",
            "source": "We have used the Seattle Collision dataset."
        },
        {
            "metadata": {},
            "cell_type": "markdown",
            "source": "Dataset contains several attributes such as:\n\n1.SEVERITYCODE\n2.X\n3.Y\n4.OBJECTID\n5.INCKEY\n6.COLDETKEY\n7.REPORTNO\n8.STATUS\n9.ADDRTYPE\n10.INTKEY\n11.LOCATION\n12.EXCEPTRSNCODE\n13.EXCEPTRSNDESC\n14.SEVERITYCODE.1\n15.SEVERITYDESC\n16.COLLISIONTYPE\n17.PERSONCOUNT\n18.PEDCOUNT\n19.PEDCYLCOUNT\n20.VEHCOUNT\n21.INCDATE\n22.INCDTTM\n23.JUNCTIONTYPE\n24.SDOT_COLCODE\n25.SDOR_COLDESC\n26.INATTENTIONIND\n27.UNDERINFL\n28.WEATHER\n29.ROADCOND\n30.LIGHTCOND\n31.PEDROWNOTGRNT\n32.SDOTCOLUMN\n33.SPEEDING\n34.ST_COLCODE\n35.ST_COLDESC\n36.SEGLANEKEY\n37.CROSSWALKKEY\n38.HITPARKEDCAR"
        },
        {
            "metadata": {},
            "cell_type": "markdown",
            "source": "Our predictor or target variable will be 'SEVERITYCODE' because it is used to measure the severity of an accident i.e., 0/1 within the dataset."
        },
        {
            "metadata": {},
            "cell_type": "markdown",
            "source": "0 - Property damage only.\n1- Severe Injury"
        },
        {
            "metadata": {},
            "cell_type": "markdown",
            "source": "Attributes used to weigh the severity of an accident are ' WEATHER ', ' ROADCOND ', ' ADDRTYPE ' ,'COLLISIONTYPE' and 'LIGHTCOND'."
        },
        {
            "metadata": {},
            "cell_type": "markdown",
            "source": "__Extract Dataset & Convert__"
        },
        {
            "metadata": {},
            "cell_type": "markdown",
            "source": "In it's original form, this data is not fit for analysis. For one, there are many columns that we will not use for this model. Also, most of the features are of type object, when they should be numerical type."
        },
        {
            "metadata": {},
            "cell_type": "markdown",
            "source": "Let's import the Data Collision dataset"
        },
        {
            "metadata": {},
            "cell_type": "code",
            "source": "import pandas as pd\nimport numpy as np\ndf=pd.read_csv('https://s3.us.cloud-object-storage.appdomain.cloud/cf-courses-data/CognitiveClass/DP0701EN/version-2/Data-Collisions.csv',low_memory=False)\ndf.head()\ndf.fillna(0)\ndf.columns\n\ncdf=df[['SEVERITYCODE','WEATHER','ADDRTYPE','COLLISIONTYPE','JUNCTIONTYPE','ROADCOND', 'LIGHTCOND']]\ncdf.head()\n\ncdf.dropna(inplace=True)",
            "execution_count": 2,
            "outputs": [
                {
                    "output_type": "stream",
                    "text": "/opt/conda/envs/Python36/lib/python3.6/site-packages/ipykernel/__main__.py:11: SettingWithCopyWarning: \nA value is trying to be set on a copy of a slice from a DataFrame\n\nSee the caveats in the documentation: http://pandas.pydata.org/pandas-docs/stable/indexing.html#indexing-view-versus-copy\n",
                    "name": "stderr"
                }
            ]
        },
        {
            "metadata": {},
            "cell_type": "code",
            "source": "cdf.head()",
            "execution_count": 3,
            "outputs": [
                {
                    "output_type": "execute_result",
                    "execution_count": 3,
                    "data": {
                        "text/plain": "   SEVERITYCODE   WEATHER      ADDRTYPE COLLISIONTYPE  \\\n0             2  Overcast  Intersection        Angles   \n1             1   Raining         Block     Sideswipe   \n2             1  Overcast         Block    Parked Car   \n3             1     Clear         Block         Other   \n4             2   Raining  Intersection        Angles   \n\n                              JUNCTIONTYPE ROADCOND                LIGHTCOND  \n0   At Intersection (intersection related)      Wet                 Daylight  \n1  Mid-Block (not related to intersection)      Wet  Dark - Street Lights On  \n2  Mid-Block (not related to intersection)      Dry                 Daylight  \n3  Mid-Block (not related to intersection)      Dry                 Daylight  \n4   At Intersection (intersection related)      Wet                 Daylight  ",
                        "text/html": "<div>\n<style scoped>\n    .dataframe tbody tr th:only-of-type {\n        vertical-align: middle;\n    }\n\n    .dataframe tbody tr th {\n        vertical-align: top;\n    }\n\n    .dataframe thead th {\n        text-align: right;\n    }\n</style>\n<table border=\"1\" class=\"dataframe\">\n  <thead>\n    <tr style=\"text-align: right;\">\n      <th></th>\n      <th>SEVERITYCODE</th>\n      <th>WEATHER</th>\n      <th>ADDRTYPE</th>\n      <th>COLLISIONTYPE</th>\n      <th>JUNCTIONTYPE</th>\n      <th>ROADCOND</th>\n      <th>LIGHTCOND</th>\n    </tr>\n  </thead>\n  <tbody>\n    <tr>\n      <th>0</th>\n      <td>2</td>\n      <td>Overcast</td>\n      <td>Intersection</td>\n      <td>Angles</td>\n      <td>At Intersection (intersection related)</td>\n      <td>Wet</td>\n      <td>Daylight</td>\n    </tr>\n    <tr>\n      <th>1</th>\n      <td>1</td>\n      <td>Raining</td>\n      <td>Block</td>\n      <td>Sideswipe</td>\n      <td>Mid-Block (not related to intersection)</td>\n      <td>Wet</td>\n      <td>Dark - Street Lights On</td>\n    </tr>\n    <tr>\n      <th>2</th>\n      <td>1</td>\n      <td>Overcast</td>\n      <td>Block</td>\n      <td>Parked Car</td>\n      <td>Mid-Block (not related to intersection)</td>\n      <td>Dry</td>\n      <td>Daylight</td>\n    </tr>\n    <tr>\n      <th>3</th>\n      <td>1</td>\n      <td>Clear</td>\n      <td>Block</td>\n      <td>Other</td>\n      <td>Mid-Block (not related to intersection)</td>\n      <td>Dry</td>\n      <td>Daylight</td>\n    </tr>\n    <tr>\n      <th>4</th>\n      <td>2</td>\n      <td>Raining</td>\n      <td>Intersection</td>\n      <td>Angles</td>\n      <td>At Intersection (intersection related)</td>\n      <td>Wet</td>\n      <td>Daylight</td>\n    </tr>\n  </tbody>\n</table>\n</div>"
                    },
                    "metadata": {}
                }
            ]
        },
        {
            "metadata": {},
            "cell_type": "code",
            "source": "cdf.COLLISIONTYPE.value_counts()",
            "execution_count": 4,
            "outputs": [
                {
                    "output_type": "execute_result",
                    "execution_count": 4,
                    "data": {
                        "text/plain": "Parked Car    43119\nAngles        34453\nRear Ended    33641\nOther         22960\nSideswipe     18285\nLeft Turn     13637\nPedestrian     6513\nCycles         5362\nRight Turn     2929\nHead On        1996\nName: COLLISIONTYPE, dtype: int64"
                    },
                    "metadata": {}
                }
            ]
        },
        {
            "metadata": {},
            "cell_type": "code",
            "source": "import seaborn as sns",
            "execution_count": 5,
            "outputs": []
        },
        {
            "metadata": {},
            "cell_type": "code",
            "source": "cdf.SEVERITYCODE=cdf.SEVERITYCODE.map(lambda SEVERITYCODE:SEVERITYCODE-1)\ncdf.head()",
            "execution_count": 6,
            "outputs": [
                {
                    "output_type": "stream",
                    "text": "/opt/conda/envs/Python36/lib/python3.6/site-packages/pandas/core/generic.py:5096: SettingWithCopyWarning: \nA value is trying to be set on a copy of a slice from a DataFrame.\nTry using .loc[row_indexer,col_indexer] = value instead\n\nSee the caveats in the documentation: http://pandas.pydata.org/pandas-docs/stable/indexing.html#indexing-view-versus-copy\n  self[name] = value\n",
                    "name": "stderr"
                },
                {
                    "output_type": "execute_result",
                    "execution_count": 6,
                    "data": {
                        "text/plain": "   SEVERITYCODE   WEATHER      ADDRTYPE COLLISIONTYPE  \\\n0             1  Overcast  Intersection        Angles   \n1             0   Raining         Block     Sideswipe   \n2             0  Overcast         Block    Parked Car   \n3             0     Clear         Block         Other   \n4             1   Raining  Intersection        Angles   \n\n                              JUNCTIONTYPE ROADCOND                LIGHTCOND  \n0   At Intersection (intersection related)      Wet                 Daylight  \n1  Mid-Block (not related to intersection)      Wet  Dark - Street Lights On  \n2  Mid-Block (not related to intersection)      Dry                 Daylight  \n3  Mid-Block (not related to intersection)      Dry                 Daylight  \n4   At Intersection (intersection related)      Wet                 Daylight  ",
                        "text/html": "<div>\n<style scoped>\n    .dataframe tbody tr th:only-of-type {\n        vertical-align: middle;\n    }\n\n    .dataframe tbody tr th {\n        vertical-align: top;\n    }\n\n    .dataframe thead th {\n        text-align: right;\n    }\n</style>\n<table border=\"1\" class=\"dataframe\">\n  <thead>\n    <tr style=\"text-align: right;\">\n      <th></th>\n      <th>SEVERITYCODE</th>\n      <th>WEATHER</th>\n      <th>ADDRTYPE</th>\n      <th>COLLISIONTYPE</th>\n      <th>JUNCTIONTYPE</th>\n      <th>ROADCOND</th>\n      <th>LIGHTCOND</th>\n    </tr>\n  </thead>\n  <tbody>\n    <tr>\n      <th>0</th>\n      <td>1</td>\n      <td>Overcast</td>\n      <td>Intersection</td>\n      <td>Angles</td>\n      <td>At Intersection (intersection related)</td>\n      <td>Wet</td>\n      <td>Daylight</td>\n    </tr>\n    <tr>\n      <th>1</th>\n      <td>0</td>\n      <td>Raining</td>\n      <td>Block</td>\n      <td>Sideswipe</td>\n      <td>Mid-Block (not related to intersection)</td>\n      <td>Wet</td>\n      <td>Dark - Street Lights On</td>\n    </tr>\n    <tr>\n      <th>2</th>\n      <td>0</td>\n      <td>Overcast</td>\n      <td>Block</td>\n      <td>Parked Car</td>\n      <td>Mid-Block (not related to intersection)</td>\n      <td>Dry</td>\n      <td>Daylight</td>\n    </tr>\n    <tr>\n      <th>3</th>\n      <td>0</td>\n      <td>Clear</td>\n      <td>Block</td>\n      <td>Other</td>\n      <td>Mid-Block (not related to intersection)</td>\n      <td>Dry</td>\n      <td>Daylight</td>\n    </tr>\n    <tr>\n      <th>4</th>\n      <td>1</td>\n      <td>Raining</td>\n      <td>Intersection</td>\n      <td>Angles</td>\n      <td>At Intersection (intersection related)</td>\n      <td>Wet</td>\n      <td>Daylight</td>\n    </tr>\n  </tbody>\n</table>\n</div>"
                    },
                    "metadata": {}
                }
            ]
        },
        {
            "metadata": {},
            "cell_type": "code",
            "source": "new=cdf[cdf.SEVERITYCODE==1]",
            "execution_count": 7,
            "outputs": []
        },
        {
            "metadata": {},
            "cell_type": "code",
            "source": "new.ADDRTYPE.value_counts()\n#From here we can see that severity occurs mostly at Block and Intersection type",
            "execution_count": 8,
            "outputs": [
                {
                    "output_type": "execute_result",
                    "execution_count": 8,
                    "data": {
                        "text/plain": "Block           29252\nIntersection    27344\nAlley              29\nName: ADDRTYPE, dtype: int64"
                    },
                    "metadata": {}
                }
            ]
        },
        {
            "metadata": {},
            "cell_type": "code",
            "source": "cdf.drop('JUNCTIONTYPE',axis=1,inplace=True)\n\nnew.drop(['JUNCTIONTYPE'],axis=1,inplace=True)",
            "execution_count": 9,
            "outputs": [
                {
                    "output_type": "stream",
                    "text": "/opt/conda/envs/Python36/lib/python3.6/site-packages/pandas/core/frame.py:3940: SettingWithCopyWarning: \nA value is trying to be set on a copy of a slice from a DataFrame\n\nSee the caveats in the documentation: http://pandas.pydata.org/pandas-docs/stable/indexing.html#indexing-view-versus-copy\n  errors=errors)\n",
                    "name": "stderr"
                }
            ]
        },
        {
            "metadata": {},
            "cell_type": "code",
            "source": "cdf.COLLISIONTYPE.value_counts()",
            "execution_count": 10,
            "outputs": [
                {
                    "output_type": "execute_result",
                    "execution_count": 10,
                    "data": {
                        "text/plain": "Parked Car    43119\nAngles        34453\nRear Ended    33641\nOther         22960\nSideswipe     18285\nLeft Turn     13637\nPedestrian     6513\nCycles         5362\nRight Turn     2929\nHead On        1996\nName: COLLISIONTYPE, dtype: int64"
                    },
                    "metadata": {}
                }
            ]
        },
        {
            "metadata": {},
            "cell_type": "code",
            "source": "import matplotlib.pyplot as plt\n%matplotlib inline\ncdf.plot(kind='hist')\nplt.xlabel('Severity')\nplt.ylabel('Frequency')\nplt.show()",
            "execution_count": 11,
            "outputs": [
                {
                    "output_type": "display_data",
                    "data": {
                        "text/plain": "<Figure size 432x288 with 1 Axes>",
                        "image/png": "[encoded data removed]"
                    },
                    "metadata": {
                        "needs_background": "light"
                    }
                }
            ]
        },
        {
            "metadata": {},
            "cell_type": "code",
            "source": "cdf.SEVERITYCODE.value_counts()",
            "execution_count": 12,
            "outputs": [
                {
                    "output_type": "execute_result",
                    "execution_count": 12,
                    "data": {
                        "text/plain": "0    126270\n1     56625\nName: SEVERITYCODE, dtype: int64"
                    },
                    "metadata": {}
                }
            ]
        },
        {
            "metadata": {},
            "cell_type": "markdown",
            "source": "__Downsampling the inbalanced data__"
        },
        {
            "metadata": {},
            "cell_type": "code",
            "source": "from sklearn.utils import resample\ndfmin=cdf[cdf.SEVERITYCODE==1]\ndfmaj=cdf[cdf.SEVERITYCODE==0]\ndf_maj_down=resample(dfmaj,replace=False,n_samples=56657,random_state=123)\ndf_cust=pd.concat([dfmin,df_maj_down])",
            "execution_count": 13,
            "outputs": []
        },
        {
            "metadata": {},
            "cell_type": "code",
            "source": "df_cust.SEVERITYCODE.plot(kind='hist')\nplt.xlabel('Severity')\nplt.ylabel('Frequency')\nplt.show()",
            "execution_count": 14,
            "outputs": [
                {
                    "output_type": "display_data",
                    "data": {
                        "text/plain": "<Figure size 432x288 with 1 Axes>",
                        "image/png": "[encoded data removed]"
                    },
                    "metadata": {
                        "needs_background": "light"
                    }
                }
            ]
        },
        {
            "metadata": {},
            "cell_type": "code",
            "source": "df_cust = df_cust.reindex(np.random.permutation(df_cust.index))",
            "execution_count": 15,
            "outputs": []
        },
        {
            "metadata": {},
            "cell_type": "code",
            "source": "df_cust[df_cust.SEVERITYCODE==1].ROADCOND.value_counts().plot(kind='bar')\nplt.title('Severe accidents based on road')\nplt.ylabel('Number of Accidents')\nplt.xlabel('Road type')\nplt.show()",
            "execution_count": 16,
            "outputs": [
                {
                    "output_type": "display_data",
                    "data": {
                        "text/plain": "<Figure size 432x288 with 1 Axes>",
                        "image/png": "[encoded data removed]"
                    },
                    "metadata": {
                        "needs_background": "light"
                    }
                }
            ]
        },
        {
            "metadata": {},
            "cell_type": "markdown",
            "source": "__It displays that most of the severe accidents occured in dry road__"
        },
        {
            "metadata": {},
            "cell_type": "code",
            "source": "df_cust[df_cust.SEVERITYCODE==1].ADDRTYPE.value_counts().plot(kind='bar')\nplt.title('Severe accidents based on place')\nplt.ylabel('Number of Accidents')\nplt.xlabel('Address Type')\nplt.show()",
            "execution_count": 17,
            "outputs": [
                {
                    "output_type": "display_data",
                    "data": {
                        "text/plain": "<Figure size 432x288 with 1 Axes>",
                        "image/png": "[encoded data removed]"
                    },
                    "metadata": {
                        "needs_background": "light"
                    }
                }
            ]
        },
        {
            "metadata": {},
            "cell_type": "code",
            "source": "df_cust[df_cust.SEVERITYCODE==1].LIGHTCOND.value_counts().plot(kind='bar')\nplt.title('Severe accidents based on light-conditions')\nplt.ylabel('Number of Accidents')\nplt.xlabel('Lights Conditions')\nplt.show()",
            "execution_count": 18,
            "outputs": [
                {
                    "output_type": "display_data",
                    "data": {
                        "text/plain": "<Figure size 432x288 with 1 Axes>",
                        "image/png": "[encoded data removed]"
                    },
                    "metadata": {
                        "needs_background": "light"
                    }
                }
            ]
        },
        {
            "metadata": {},
            "cell_type": "code",
            "source": "df_cust[df_cust.SEVERITYCODE==1].COLLISIONTYPE.value_counts().plot(kind='bar')\nplt.title('Severe Accidents based on Collision Type')\nplt.ylabel('Number of Accidents')\nplt.xlabel('Collision type')\nplt.show()",
            "execution_count": 19,
            "outputs": [
                {
                    "output_type": "display_data",
                    "data": {
                        "text/plain": "<Figure size 432x288 with 1 Axes>",
                        "image/png": "[encoded data removed]"
                    },
                    "metadata": {
                        "needs_background": "light"
                    }
                }
            ]
        },
        {
            "metadata": {},
            "cell_type": "code",
            "source": "df_cust[df_cust.SEVERITYCODE==1].WEATHER.value_counts().plot(kind='bar')\nplt.title('Severe Accident based on Weather')\nplt.ylabel('Number of Accidents')\nplt.xlabel('Weather type')\nplt.show()",
            "execution_count": 20,
            "outputs": [
                {
                    "output_type": "display_data",
                    "data": {
                        "text/plain": "<Figure size 432x288 with 1 Axes>",
                        "image/png": "[encoded data removed]"
                    },
                    "metadata": {
                        "needs_background": "light"
                    }
                }
            ]
        },
        {
            "metadata": {},
            "cell_type": "code",
            "source": "df_cust.SEVERITYCODE.value_counts()",
            "execution_count": 21,
            "outputs": [
                {
                    "output_type": "execute_result",
                    "execution_count": 21,
                    "data": {
                        "text/plain": "0    56657\n1    56625\nName: SEVERITYCODE, dtype: int64"
                    },
                    "metadata": {}
                }
            ]
        },
        {
            "metadata": {},
            "cell_type": "code",
            "source": "#no of unique values in each column:\nfor col in df_cust[0:]:\n    print(col, ':' , len(df_cust[col].unique()))",
            "execution_count": 22,
            "outputs": [
                {
                    "output_type": "stream",
                    "text": "SEVERITYCODE : 2\nWEATHER : 11\nADDRTYPE : 3\nCOLLISIONTYPE : 10\nROADCOND : 9\nLIGHTCOND : 9\n",
                    "name": "stdout"
                }
            ]
        },
        {
            "metadata": {},
            "cell_type": "markdown",
            "source": "__Count Frequency Encoding__"
        },
        {
            "metadata": {},
            "cell_type": "code",
            "source": "df_collision_freq=df_cust.COLLISIONTYPE.value_counts().to_dict()",
            "execution_count": 23,
            "outputs": []
        },
        {
            "metadata": {},
            "cell_type": "code",
            "source": "df_cust.COLLISIONTYPE=df.COLLISIONTYPE.map(df_collision_freq)",
            "execution_count": 24,
            "outputs": []
        },
        {
            "metadata": {},
            "cell_type": "code",
            "source": "df_cust.head(5)",
            "execution_count": 25,
            "outputs": [
                {
                    "output_type": "execute_result",
                    "execution_count": 25,
                    "data": {
                        "text/plain": "        SEVERITYCODE  WEATHER      ADDRTYPE  COLLISIONTYPE ROADCOND LIGHTCOND\n166129             0  Raining         Block        13755.0      Wet  Daylight\n177233             0    Clear         Block        13755.0      Dry  Daylight\n26693              0    Clear         Block         9582.0      Dry  Daylight\n40732              0    Clear  Intersection         9582.0      Dry  Daylight\n108008             0  Raining  Intersection        22966.0      Wet  Daylight",
                        "text/html": "<div>\n<style scoped>\n    .dataframe tbody tr th:only-of-type {\n        vertical-align: middle;\n    }\n\n    .dataframe tbody tr th {\n        vertical-align: top;\n    }\n\n    .dataframe thead th {\n        text-align: right;\n    }\n</style>\n<table border=\"1\" class=\"dataframe\">\n  <thead>\n    <tr style=\"text-align: right;\">\n      <th></th>\n      <th>SEVERITYCODE</th>\n      <th>WEATHER</th>\n      <th>ADDRTYPE</th>\n      <th>COLLISIONTYPE</th>\n      <th>ROADCOND</th>\n      <th>LIGHTCOND</th>\n    </tr>\n  </thead>\n  <tbody>\n    <tr>\n      <th>166129</th>\n      <td>0</td>\n      <td>Raining</td>\n      <td>Block</td>\n      <td>13755.0</td>\n      <td>Wet</td>\n      <td>Daylight</td>\n    </tr>\n    <tr>\n      <th>177233</th>\n      <td>0</td>\n      <td>Clear</td>\n      <td>Block</td>\n      <td>13755.0</td>\n      <td>Dry</td>\n      <td>Daylight</td>\n    </tr>\n    <tr>\n      <th>26693</th>\n      <td>0</td>\n      <td>Clear</td>\n      <td>Block</td>\n      <td>9582.0</td>\n      <td>Dry</td>\n      <td>Daylight</td>\n    </tr>\n    <tr>\n      <th>40732</th>\n      <td>0</td>\n      <td>Clear</td>\n      <td>Intersection</td>\n      <td>9582.0</td>\n      <td>Dry</td>\n      <td>Daylight</td>\n    </tr>\n    <tr>\n      <th>108008</th>\n      <td>0</td>\n      <td>Raining</td>\n      <td>Intersection</td>\n      <td>22966.0</td>\n      <td>Wet</td>\n      <td>Daylight</td>\n    </tr>\n  </tbody>\n</table>\n</div>"
                    },
                    "metadata": {}
                }
            ]
        },
        {
            "metadata": {},
            "cell_type": "code",
            "source": "df_road_freq=df_cust.ROADCOND.value_counts().to_dict()\ndf_cust.ROADCOND=df.ROADCOND.map(df_road_freq)",
            "execution_count": 26,
            "outputs": []
        },
        {
            "metadata": {},
            "cell_type": "code",
            "source": "df_cust.head()",
            "execution_count": 27,
            "outputs": [
                {
                    "output_type": "execute_result",
                    "execution_count": 27,
                    "data": {
                        "text/plain": "        SEVERITYCODE  WEATHER      ADDRTYPE  COLLISIONTYPE  ROADCOND LIGHTCOND\n166129             0  Raining         Block        13755.0   29561.0  Daylight\n177233             0    Clear         Block        13755.0   76729.0  Daylight\n26693              0    Clear         Block         9582.0   76729.0  Daylight\n40732              0    Clear  Intersection         9582.0   76729.0  Daylight\n108008             0  Raining  Intersection        22966.0   29561.0  Daylight",
                        "text/html": "<div>\n<style scoped>\n    .dataframe tbody tr th:only-of-type {\n        vertical-align: middle;\n    }\n\n    .dataframe tbody tr th {\n        vertical-align: top;\n    }\n\n    .dataframe thead th {\n        text-align: right;\n    }\n</style>\n<table border=\"1\" class=\"dataframe\">\n  <thead>\n    <tr style=\"text-align: right;\">\n      <th></th>\n      <th>SEVERITYCODE</th>\n      <th>WEATHER</th>\n      <th>ADDRTYPE</th>\n      <th>COLLISIONTYPE</th>\n      <th>ROADCOND</th>\n      <th>LIGHTCOND</th>\n    </tr>\n  </thead>\n  <tbody>\n    <tr>\n      <th>166129</th>\n      <td>0</td>\n      <td>Raining</td>\n      <td>Block</td>\n      <td>13755.0</td>\n      <td>29561.0</td>\n      <td>Daylight</td>\n    </tr>\n    <tr>\n      <th>177233</th>\n      <td>0</td>\n      <td>Clear</td>\n      <td>Block</td>\n      <td>13755.0</td>\n      <td>76729.0</td>\n      <td>Daylight</td>\n    </tr>\n    <tr>\n      <th>26693</th>\n      <td>0</td>\n      <td>Clear</td>\n      <td>Block</td>\n      <td>9582.0</td>\n      <td>76729.0</td>\n      <td>Daylight</td>\n    </tr>\n    <tr>\n      <th>40732</th>\n      <td>0</td>\n      <td>Clear</td>\n      <td>Intersection</td>\n      <td>9582.0</td>\n      <td>76729.0</td>\n      <td>Daylight</td>\n    </tr>\n    <tr>\n      <th>108008</th>\n      <td>0</td>\n      <td>Raining</td>\n      <td>Intersection</td>\n      <td>22966.0</td>\n      <td>29561.0</td>\n      <td>Daylight</td>\n    </tr>\n  </tbody>\n</table>\n</div>"
                    },
                    "metadata": {}
                }
            ]
        },
        {
            "metadata": {},
            "cell_type": "code",
            "source": "df_light_freq=df_cust.LIGHTCOND.value_counts().to_dict()",
            "execution_count": 28,
            "outputs": []
        },
        {
            "metadata": {},
            "cell_type": "code",
            "source": "df_cust.LIGHTCOND=df_cust.LIGHTCOND.map(df_light_freq)",
            "execution_count": 29,
            "outputs": []
        },
        {
            "metadata": {},
            "cell_type": "code",
            "source": "df_weather_freq=df_cust.WEATHER.value_counts().to_dict()\ndf_cust.WEATHER=df_cust.WEATHER.map(df_weather_freq)",
            "execution_count": 30,
            "outputs": []
        },
        {
            "metadata": {},
            "cell_type": "code",
            "source": "addr_dummy=pd.get_dummies(df_cust.ADDRTYPE)\naddr_dummy.head(3)",
            "execution_count": 31,
            "outputs": [
                {
                    "output_type": "execute_result",
                    "execution_count": 31,
                    "data": {
                        "text/plain": "        Alley  Block  Intersection\n166129      0      1             0\n177233      0      1             0\n26693       0      1             0",
                        "text/html": "<div>\n<style scoped>\n    .dataframe tbody tr th:only-of-type {\n        vertical-align: middle;\n    }\n\n    .dataframe tbody tr th {\n        vertical-align: top;\n    }\n\n    .dataframe thead th {\n        text-align: right;\n    }\n</style>\n<table border=\"1\" class=\"dataframe\">\n  <thead>\n    <tr style=\"text-align: right;\">\n      <th></th>\n      <th>Alley</th>\n      <th>Block</th>\n      <th>Intersection</th>\n    </tr>\n  </thead>\n  <tbody>\n    <tr>\n      <th>166129</th>\n      <td>0</td>\n      <td>1</td>\n      <td>0</td>\n    </tr>\n    <tr>\n      <th>177233</th>\n      <td>0</td>\n      <td>1</td>\n      <td>0</td>\n    </tr>\n    <tr>\n      <th>26693</th>\n      <td>0</td>\n      <td>1</td>\n      <td>0</td>\n    </tr>\n  </tbody>\n</table>\n</div>"
                    },
                    "metadata": {}
                }
            ]
        },
        {
            "metadata": {},
            "cell_type": "code",
            "source": "df_new=df_cust.reset_index()",
            "execution_count": 32,
            "outputs": []
        },
        {
            "metadata": {},
            "cell_type": "code",
            "source": "#df_new.drop(['index','level_0'],axis=1,inplace=True)",
            "execution_count": 33,
            "outputs": []
        },
        {
            "metadata": {},
            "cell_type": "code",
            "source": "df_new.head()",
            "execution_count": 34,
            "outputs": [
                {
                    "output_type": "execute_result",
                    "execution_count": 34,
                    "data": {
                        "text/plain": "    index  SEVERITYCODE  WEATHER      ADDRTYPE  COLLISIONTYPE  ROADCOND  \\\n0  166129             0    20705         Block        13755.0   29561.0   \n1  177233             0    68555         Block        13755.0   76729.0   \n2   26693             0    68555         Block         9582.0   76729.0   \n3   40732             0    68555  Intersection         9582.0   76729.0   \n4  108008             0    20705  Intersection        22966.0   29561.0   \n\n   LIGHTCOND  \n0      72061  \n1      72061  \n2      72061  \n3      72061  \n4      72061  ",
                        "text/html": "<div>\n<style scoped>\n    .dataframe tbody tr th:only-of-type {\n        vertical-align: middle;\n    }\n\n    .dataframe tbody tr th {\n        vertical-align: top;\n    }\n\n    .dataframe thead th {\n        text-align: right;\n    }\n</style>\n<table border=\"1\" class=\"dataframe\">\n  <thead>\n    <tr style=\"text-align: right;\">\n      <th></th>\n      <th>index</th>\n      <th>SEVERITYCODE</th>\n      <th>WEATHER</th>\n      <th>ADDRTYPE</th>\n      <th>COLLISIONTYPE</th>\n      <th>ROADCOND</th>\n      <th>LIGHTCOND</th>\n    </tr>\n  </thead>\n  <tbody>\n    <tr>\n      <th>0</th>\n      <td>166129</td>\n      <td>0</td>\n      <td>20705</td>\n      <td>Block</td>\n      <td>13755.0</td>\n      <td>29561.0</td>\n      <td>72061</td>\n    </tr>\n    <tr>\n      <th>1</th>\n      <td>177233</td>\n      <td>0</td>\n      <td>68555</td>\n      <td>Block</td>\n      <td>13755.0</td>\n      <td>76729.0</td>\n      <td>72061</td>\n    </tr>\n    <tr>\n      <th>2</th>\n      <td>26693</td>\n      <td>0</td>\n      <td>68555</td>\n      <td>Block</td>\n      <td>9582.0</td>\n      <td>76729.0</td>\n      <td>72061</td>\n    </tr>\n    <tr>\n      <th>3</th>\n      <td>40732</td>\n      <td>0</td>\n      <td>68555</td>\n      <td>Intersection</td>\n      <td>9582.0</td>\n      <td>76729.0</td>\n      <td>72061</td>\n    </tr>\n    <tr>\n      <th>4</th>\n      <td>108008</td>\n      <td>0</td>\n      <td>20705</td>\n      <td>Intersection</td>\n      <td>22966.0</td>\n      <td>29561.0</td>\n      <td>72061</td>\n    </tr>\n  </tbody>\n</table>\n</div>"
                    },
                    "metadata": {}
                }
            ]
        },
        {
            "metadata": {},
            "cell_type": "code",
            "source": "addr_dummy=addr_dummy.reset_index()\naddr_dummy.head(3)",
            "execution_count": 35,
            "outputs": [
                {
                    "output_type": "execute_result",
                    "execution_count": 35,
                    "data": {
                        "text/plain": "    index  Alley  Block  Intersection\n0  166129      0      1             0\n1  177233      0      1             0\n2   26693      0      1             0",
                        "text/html": "<div>\n<style scoped>\n    .dataframe tbody tr th:only-of-type {\n        vertical-align: middle;\n    }\n\n    .dataframe tbody tr th {\n        vertical-align: top;\n    }\n\n    .dataframe thead th {\n        text-align: right;\n    }\n</style>\n<table border=\"1\" class=\"dataframe\">\n  <thead>\n    <tr style=\"text-align: right;\">\n      <th></th>\n      <th>index</th>\n      <th>Alley</th>\n      <th>Block</th>\n      <th>Intersection</th>\n    </tr>\n  </thead>\n  <tbody>\n    <tr>\n      <th>0</th>\n      <td>166129</td>\n      <td>0</td>\n      <td>1</td>\n      <td>0</td>\n    </tr>\n    <tr>\n      <th>1</th>\n      <td>177233</td>\n      <td>0</td>\n      <td>1</td>\n      <td>0</td>\n    </tr>\n    <tr>\n      <th>2</th>\n      <td>26693</td>\n      <td>0</td>\n      <td>1</td>\n      <td>0</td>\n    </tr>\n  </tbody>\n</table>\n</div>"
                    },
                    "metadata": {}
                }
            ]
        },
        {
            "metadata": {},
            "cell_type": "code",
            "source": "addr_dummy.drop('index',axis=1,inplace=True)\naddr_dummy.head(3)",
            "execution_count": 36,
            "outputs": [
                {
                    "output_type": "execute_result",
                    "execution_count": 36,
                    "data": {
                        "text/plain": "   Alley  Block  Intersection\n0      0      1             0\n1      0      1             0\n2      0      1             0",
                        "text/html": "<div>\n<style scoped>\n    .dataframe tbody tr th:only-of-type {\n        vertical-align: middle;\n    }\n\n    .dataframe tbody tr th {\n        vertical-align: top;\n    }\n\n    .dataframe thead th {\n        text-align: right;\n    }\n</style>\n<table border=\"1\" class=\"dataframe\">\n  <thead>\n    <tr style=\"text-align: right;\">\n      <th></th>\n      <th>Alley</th>\n      <th>Block</th>\n      <th>Intersection</th>\n    </tr>\n  </thead>\n  <tbody>\n    <tr>\n      <th>0</th>\n      <td>0</td>\n      <td>1</td>\n      <td>0</td>\n    </tr>\n    <tr>\n      <th>1</th>\n      <td>0</td>\n      <td>1</td>\n      <td>0</td>\n    </tr>\n    <tr>\n      <th>2</th>\n      <td>0</td>\n      <td>1</td>\n      <td>0</td>\n    </tr>\n  </tbody>\n</table>\n</div>"
                    },
                    "metadata": {}
                }
            ]
        },
        {
            "metadata": {},
            "cell_type": "code",
            "source": "df_new.head()",
            "execution_count": 37,
            "outputs": [
                {
                    "output_type": "execute_result",
                    "execution_count": 37,
                    "data": {
                        "text/plain": "    index  SEVERITYCODE  WEATHER      ADDRTYPE  COLLISIONTYPE  ROADCOND  \\\n0  166129             0    20705         Block        13755.0   29561.0   \n1  177233             0    68555         Block        13755.0   76729.0   \n2   26693             0    68555         Block         9582.0   76729.0   \n3   40732             0    68555  Intersection         9582.0   76729.0   \n4  108008             0    20705  Intersection        22966.0   29561.0   \n\n   LIGHTCOND  \n0      72061  \n1      72061  \n2      72061  \n3      72061  \n4      72061  ",
                        "text/html": "<div>\n<style scoped>\n    .dataframe tbody tr th:only-of-type {\n        vertical-align: middle;\n    }\n\n    .dataframe tbody tr th {\n        vertical-align: top;\n    }\n\n    .dataframe thead th {\n        text-align: right;\n    }\n</style>\n<table border=\"1\" class=\"dataframe\">\n  <thead>\n    <tr style=\"text-align: right;\">\n      <th></th>\n      <th>index</th>\n      <th>SEVERITYCODE</th>\n      <th>WEATHER</th>\n      <th>ADDRTYPE</th>\n      <th>COLLISIONTYPE</th>\n      <th>ROADCOND</th>\n      <th>LIGHTCOND</th>\n    </tr>\n  </thead>\n  <tbody>\n    <tr>\n      <th>0</th>\n      <td>166129</td>\n      <td>0</td>\n      <td>20705</td>\n      <td>Block</td>\n      <td>13755.0</td>\n      <td>29561.0</td>\n      <td>72061</td>\n    </tr>\n    <tr>\n      <th>1</th>\n      <td>177233</td>\n      <td>0</td>\n      <td>68555</td>\n      <td>Block</td>\n      <td>13755.0</td>\n      <td>76729.0</td>\n      <td>72061</td>\n    </tr>\n    <tr>\n      <th>2</th>\n      <td>26693</td>\n      <td>0</td>\n      <td>68555</td>\n      <td>Block</td>\n      <td>9582.0</td>\n      <td>76729.0</td>\n      <td>72061</td>\n    </tr>\n    <tr>\n      <th>3</th>\n      <td>40732</td>\n      <td>0</td>\n      <td>68555</td>\n      <td>Intersection</td>\n      <td>9582.0</td>\n      <td>76729.0</td>\n      <td>72061</td>\n    </tr>\n    <tr>\n      <th>4</th>\n      <td>108008</td>\n      <td>0</td>\n      <td>20705</td>\n      <td>Intersection</td>\n      <td>22966.0</td>\n      <td>29561.0</td>\n      <td>72061</td>\n    </tr>\n  </tbody>\n</table>\n</div>"
                    },
                    "metadata": {}
                }
            ]
        },
        {
            "metadata": {},
            "cell_type": "code",
            "source": "df_new2=pd.concat([df_new,addr_dummy],axis=1)",
            "execution_count": 38,
            "outputs": []
        },
        {
            "metadata": {},
            "cell_type": "code",
            "source": "df_new2.drop('ADDRTYPE',axis=1,inplace=True)\ndf_new2.head()",
            "execution_count": 39,
            "outputs": [
                {
                    "output_type": "execute_result",
                    "execution_count": 39,
                    "data": {
                        "text/plain": "    index  SEVERITYCODE  WEATHER  COLLISIONTYPE  ROADCOND  LIGHTCOND  Alley  \\\n0  166129             0    20705        13755.0   29561.0      72061      0   \n1  177233             0    68555        13755.0   76729.0      72061      0   \n2   26693             0    68555         9582.0   76729.0      72061      0   \n3   40732             0    68555         9582.0   76729.0      72061      0   \n4  108008             0    20705        22966.0   29561.0      72061      0   \n\n   Block  Intersection  \n0      1             0  \n1      1             0  \n2      1             0  \n3      0             1  \n4      0             1  ",
                        "text/html": "<div>\n<style scoped>\n    .dataframe tbody tr th:only-of-type {\n        vertical-align: middle;\n    }\n\n    .dataframe tbody tr th {\n        vertical-align: top;\n    }\n\n    .dataframe thead th {\n        text-align: right;\n    }\n</style>\n<table border=\"1\" class=\"dataframe\">\n  <thead>\n    <tr style=\"text-align: right;\">\n      <th></th>\n      <th>index</th>\n      <th>SEVERITYCODE</th>\n      <th>WEATHER</th>\n      <th>COLLISIONTYPE</th>\n      <th>ROADCOND</th>\n      <th>LIGHTCOND</th>\n      <th>Alley</th>\n      <th>Block</th>\n      <th>Intersection</th>\n    </tr>\n  </thead>\n  <tbody>\n    <tr>\n      <th>0</th>\n      <td>166129</td>\n      <td>0</td>\n      <td>20705</td>\n      <td>13755.0</td>\n      <td>29561.0</td>\n      <td>72061</td>\n      <td>0</td>\n      <td>1</td>\n      <td>0</td>\n    </tr>\n    <tr>\n      <th>1</th>\n      <td>177233</td>\n      <td>0</td>\n      <td>68555</td>\n      <td>13755.0</td>\n      <td>76729.0</td>\n      <td>72061</td>\n      <td>0</td>\n      <td>1</td>\n      <td>0</td>\n    </tr>\n    <tr>\n      <th>2</th>\n      <td>26693</td>\n      <td>0</td>\n      <td>68555</td>\n      <td>9582.0</td>\n      <td>76729.0</td>\n      <td>72061</td>\n      <td>0</td>\n      <td>1</td>\n      <td>0</td>\n    </tr>\n    <tr>\n      <th>3</th>\n      <td>40732</td>\n      <td>0</td>\n      <td>68555</td>\n      <td>9582.0</td>\n      <td>76729.0</td>\n      <td>72061</td>\n      <td>0</td>\n      <td>0</td>\n      <td>1</td>\n    </tr>\n    <tr>\n      <th>4</th>\n      <td>108008</td>\n      <td>0</td>\n      <td>20705</td>\n      <td>22966.0</td>\n      <td>29561.0</td>\n      <td>72061</td>\n      <td>0</td>\n      <td>0</td>\n      <td>1</td>\n    </tr>\n  </tbody>\n</table>\n</div>"
                    },
                    "metadata": {}
                }
            ]
        },
        {
            "metadata": {},
            "cell_type": "code",
            "source": "df_new2.columns=[col.upper() for col in df_new2.columns]",
            "execution_count": 40,
            "outputs": []
        },
        {
            "metadata": {},
            "cell_type": "code",
            "source": "df_new2.columns",
            "execution_count": 41,
            "outputs": [
                {
                    "output_type": "execute_result",
                    "execution_count": 41,
                    "data": {
                        "text/plain": "Index(['INDEX', 'SEVERITYCODE', 'WEATHER', 'COLLISIONTYPE', 'ROADCOND',\n       'LIGHTCOND', 'ALLEY', 'BLOCK', 'INTERSECTION'],\n      dtype='object')"
                    },
                    "metadata": {}
                }
            ]
        },
        {
            "metadata": {},
            "cell_type": "code",
            "source": "x_data=df_new2[['WEATHER', 'COLLISIONTYPE', 'ROADCOND',\n       'LIGHTCOND', 'ALLEY', 'BLOCK', 'INTERSECTION']]\ny_data=df_new2['SEVERITYCODE']\nprint(x_data.head(3),y_data.head(3))",
            "execution_count": 42,
            "outputs": [
                {
                    "output_type": "stream",
                    "text": "   WEATHER  COLLISIONTYPE  ROADCOND  LIGHTCOND  ALLEY  BLOCK  INTERSECTION\n0    20705        13755.0   29561.0      72061      0      1             0\n1    68555        13755.0   76729.0      72061      0      1             0\n2    68555         9582.0   76729.0      72061      0      1             0 0    0\n1    0\n2    0\nName: SEVERITYCODE, dtype: int64\n",
                    "name": "stdout"
                }
            ]
        },
        {
            "metadata": {},
            "cell_type": "code",
            "source": "from sklearn.model_selection import train_test_split\nfrom sklearn.preprocessing import StandardScaler",
            "execution_count": 43,
            "outputs": []
        },
        {
            "metadata": {},
            "cell_type": "markdown",
            "source": "__Normalizing x_data__"
        },
        {
            "metadata": {},
            "cell_type": "code",
            "source": "s=StandardScaler()\ns.fit(x_data)\nx_scale=s.transform(x_data)",
            "execution_count": 44,
            "outputs": [
                {
                    "output_type": "stream",
                    "text": "/opt/conda/envs/Python36/lib/python3.6/site-packages/sklearn/preprocessing/data.py:645: DataConversionWarning: Data with input dtype uint8, int64, float64 were all converted to float64 by StandardScaler.\n  return self.partial_fit(X, y)\n/opt/conda/envs/Python36/lib/python3.6/site-packages/ipykernel/__main__.py:3: DataConversionWarning: Data with input dtype uint8, int64, float64 were all converted to float64 by StandardScaler.\n  app.launch_new_instance()\n",
                    "name": "stderr"
                }
            ]
        },
        {
            "metadata": {},
            "cell_type": "code",
            "source": "x_scale",
            "execution_count": 45,
            "outputs": [
                {
                    "output_type": "execute_result",
                    "execution_count": 45,
                    "data": {
                        "text/plain": "array([[-1.07291366, -0.46130991, -1.21970605, ..., -0.03242808,\n         0.79020089, -0.788448  ],\n       [ 0.80013996, -0.46130991,  0.67249689, ..., -0.03242808,\n         0.79020089, -0.788448  ],\n       [ 0.80013996, -1.06793459,  0.67249689, ..., -0.03242808,\n         0.79020089, -0.788448  ],\n       ...,\n       [-1.21743433,  0.88858629,  0.67249689, ..., -0.03242808,\n         0.79020089, -0.788448  ],\n       [-1.07291366, -2.25792493, -1.21970605, ..., -0.03242808,\n         0.79020089, -0.788448  ],\n       [-1.07291366, -1.06793459, -1.21970605, ..., -0.03242808,\n        -1.26550097,  1.26831446]])"
                    },
                    "metadata": {}
                }
            ]
        },
        {
            "metadata": {},
            "cell_type": "markdown",
            "source": "__Model Selection__"
        },
        {
            "metadata": {},
            "cell_type": "markdown",
            "source": "__Decision Tree__"
        },
        {
            "metadata": {},
            "cell_type": "code",
            "source": "from sklearn.tree import DecisionTreeClassifier",
            "execution_count": 46,
            "outputs": []
        },
        {
            "metadata": {},
            "cell_type": "code",
            "source": "xtrain,xtest,ytrain,ytest=train_test_split(x_scale,y_data,test_size=0.2,random_state=1)",
            "execution_count": 47,
            "outputs": []
        },
        {
            "metadata": {},
            "cell_type": "code",
            "source": "xtrain",
            "execution_count": 48,
            "outputs": [
                {
                    "output_type": "execute_result",
                    "execution_count": 48,
                    "data": {
                        "text/plain": "array([[-1.21743433, -1.14716068,  0.67249689, ..., -0.03242808,\n        -1.26550097,  1.26831446],\n       [ 0.80013996,  0.88858629,  0.67249689, ..., -0.03242808,\n         0.79020089, -0.788448  ],\n       [ 0.80013996, -0.46130991,  0.67249689, ..., -0.03242808,\n         0.79020089, -0.788448  ],\n       ...,\n       [ 0.80013996,  0.87768362,  0.67249689, ..., -0.03242808,\n        -1.26550097,  1.26831446],\n       [-1.07291366,  0.88858629, -1.21970605, ..., -0.03242808,\n         0.79020089, -0.788448  ],\n       [-1.07291366,  0.87768362, -1.21970605, ..., -0.03242808,\n         0.79020089, -0.788448  ]])"
                    },
                    "metadata": {}
                }
            ]
        },
        {
            "metadata": {},
            "cell_type": "code",
            "source": "dt=DecisionTreeClassifier(criterion=\"entropy\",max_depth=10)\ndt.fit(xtrain,ytrain)",
            "execution_count": 49,
            "outputs": [
                {
                    "output_type": "execute_result",
                    "execution_count": 49,
                    "data": {
                        "text/plain": "DecisionTreeClassifier(class_weight=None, criterion='entropy', max_depth=10,\n            max_features=None, max_leaf_nodes=None,\n            min_impurity_decrease=0.0, min_impurity_split=None,\n            min_samples_leaf=1, min_samples_split=2,\n            min_weight_fraction_leaf=0.0, presort=False, random_state=None,\n            splitter='best')"
                    },
                    "metadata": {}
                }
            ]
        },
        {
            "metadata": {},
            "cell_type": "code",
            "source": "yhat=dt.predict(xtest)",
            "execution_count": 50,
            "outputs": []
        },
        {
            "metadata": {},
            "cell_type": "code",
            "source": "from sklearn import metrics\nfrom sklearn.metrics import f1_score\n#from sklearn.metrics import jaccard_similarity_score\nprint('F1 Score:',f1_score(ytest,yhat,average='weighted'))\nprint('Accuracy-Score:', metrics.accuracy_score(ytest,yhat))",
            "execution_count": 51,
            "outputs": [
                {
                    "output_type": "stream",
                    "text": "F1 Score: 0.6944231074797295\nAccuracy-Score: 0.6957673125303439\n",
                    "name": "stdout"
                }
            ]
        },
        {
            "metadata": {},
            "cell_type": "code",
            "source": "yhat[0:10]",
            "execution_count": 52,
            "outputs": [
                {
                    "output_type": "execute_result",
                    "execution_count": 52,
                    "data": {
                        "text/plain": "array([0, 0, 0, 0, 0, 1, 1, 0, 1, 1])"
                    },
                    "metadata": {}
                }
            ]
        },
        {
            "metadata": {},
            "cell_type": "markdown",
            "source": "__K-Nearest Neighbour__"
        },
        {
            "metadata": {},
            "cell_type": "code",
            "source": "from sklearn.neighbors import KNeighborsClassifier\nli={}\nfor k in range(1,10):\n    neig=KNeighborsClassifier(n_neighbors=k).fit(xtrain,ytrain)\n    yhat=neig.predict(xtest)\n    acc_score=metrics.accuracy_score(ytest,yhat)\n    li[k]=acc_score\nprint(li)",
            "execution_count": null,
            "outputs": []
        },
        {
            "metadata": {},
            "cell_type": "code",
            "source": "best_k = max(li, key=li.get)\nbest_k",
            "execution_count": null,
            "outputs": []
        },
        {
            "metadata": {},
            "cell_type": "code",
            "source": "neig=KNeighborsClassifier(n_neighbors=best_k).fit(xtrain,ytrain)\nyhat=neig.predict(xtest)\nprint('Best K for KNN model :',best_k,\n      '\\nCorresponding Accuracy:',metrics.accuracy_score(ytest,yhat))",
            "execution_count": null,
            "outputs": []
        },
        {
            "metadata": {},
            "cell_type": "markdown",
            "source": "__Logistic Regression__"
        },
        {
            "metadata": {},
            "cell_type": "code",
            "source": "from sklearn.linear_model import LogisticRegression\nlr=LogisticRegression()\nlr.fit(xtrain,ytrain)\nyhat=lr.predict(xtest)",
            "execution_count": null,
            "outputs": []
        },
        {
            "metadata": {},
            "cell_type": "code",
            "source": "print('f1 score:',metrics.f1_score(ytest,yhat))\nprint('Accuracy score:',metrics.accuracy_score(ytest,yhat))",
            "execution_count": null,
            "outputs": []
        },
        {
            "metadata": {},
            "cell_type": "markdown",
            "source": "__Support Vector Machines (SVM)__"
        },
        {
            "metadata": {},
            "cell_type": "code",
            "source": "from sklearn import svm\nclf=svm.SVC(kernel='rbf')\nclf.fit(xtrain,ytrain)\nyhat_svm=clf.predict(xtest)",
            "execution_count": null,
            "outputs": []
        },
        {
            "metadata": {},
            "cell_type": "code",
            "source": "from sklearn.metrics import classification_report,confusion_matrix\nimport itertools\ncnf=confusion_matrix(ytest,yhat_svm)\nnp.set_printoptions(precision=2)\nprint('Classification Report:\\n',classification_report(ytest,yhat_svm))",
            "execution_count": null,
            "outputs": []
        },
        {
            "metadata": {},
            "cell_type": "code",
            "source": "print('f1 score:' , metrics.f1_score(ytest,yhat_svm))",
            "execution_count": null,
            "outputs": []
        },
        {
            "metadata": {},
            "cell_type": "code",
            "source": "print('Accuracy_score:',metrics.accuracy_score(ytest,yhat_svm))",
            "execution_count": null,
            "outputs": []
        }
    ],
    "metadata": {
        "kernelspec": {
            "name": "python3",
            "display_name": "Python 3.6",
            "language": "python"
        },
        "language_info": {
            "name": "python",
            "version": "3.6.9",
            "mimetype": "text/x-python",
            "codemirror_mode": {
                "name": "ipython",
                "version": 3
            },
            "pygments_lexer": "ipython3",
            "nbconvert_exporter": "python",
            "file_extension": ".py"
        }
    },
    "nbformat": 4,
    "nbformat_minor": 1
}