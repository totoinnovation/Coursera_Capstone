{
    "cells": [
        {
            "metadata": {
                "collapsed": true
            },
            "cell_type": "markdown",
            "source": "__Data__"
        },
        {
            "metadata": {},
            "cell_type": "markdown",
            "source": "The data was collected by the Seattle Police Department and Accident Traffic Records Department from 2004 to present.\nThe data consists of 37 independent variables and 194,673 rows. The dependent variable, \u201cSEVERITYCODE\u201d, contains numbers that correspond to different levels of severity caused by an accident from 0 to 4.\nSeverity codes are as follows:\n0: Little to no Probability (Clear Conditions)\n1: Very Low Probability \u2014 Chance or Property Damage\n2: Low Probability \u2014 Chance of Injury\n3: Mild Probability \u2014 Chance of Serious Injury\n4: High Probability \u2014 Chance of Fatality\nFurthermore, because of the existence of null values in some records, the data needs to be preprocessed before any further processing."
        },
        {
            "metadata": {},
            "cell_type": "code",
            "source": "",
            "execution_count": null,
            "outputs": []
        }
    ],
    "metadata": {
        "kernelspec": {
            "name": "python3",
            "display_name": "Python 3.6",
            "language": "python"
        },
        "language_info": {
            "name": "python",
            "version": "3.6.9",
            "mimetype": "text/x-python",
            "codemirror_mode": {
                "name": "ipython",
                "version": 3
            },
            "pygments_lexer": "ipython3",
            "nbconvert_exporter": "python",
            "file_extension": ".py"
        }
    },
    "nbformat": 4,
    "nbformat_minor": 1
}